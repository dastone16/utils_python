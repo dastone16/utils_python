{
  "nbformat": 4,
  "nbformat_minor": 0,
  "metadata": {
    "colab": {
      "name": "correlation_plot.ipynb",
      "provenance": [],
      "authorship_tag": "ABX9TyOGtd3P0HxVdfjBn9ppOYbJ",
      "include_colab_link": true
    },
    "kernelspec": {
      "name": "python3",
      "display_name": "Python 3"
    },
    "language_info": {
      "name": "python"
    }
  },
  "cells": [
    {
      "cell_type": "markdown",
      "metadata": {
        "id": "view-in-github",
        "colab_type": "text"
      },
      "source": [
        "<a href=\"https://colab.research.google.com/github/dastone16/utils_python/blob/main/correlation_plot.ipynb\" target=\"_parent\"><img src=\"https://colab.research.google.com/assets/colab-badge.svg\" alt=\"Open In Colab\"/></a>"
      ]
    },
    {
      "cell_type": "code",
      "execution_count": null,
      "metadata": {
        "id": "6KxoaPxyUorC"
      },
      "outputs": [],
      "source": [
        "def correlation_plot(data,resample,output_name,size=(18,12),font=18,plot=True,all_factors=True,corr_variable='Metal Exposure (mA)'):\n",
        "  data_corr = data.resample(resample).mean().corr()\n",
        "  data_corr = data_corr.dropna(how='all')\n",
        "  data_corr = data_corr.dropna(how='all',axis='columns')\n",
        "  if plot:\n",
        "    f = plt.figure(figsize=size)\n",
        "    plt.matshow(data_corr, fignum=f.number)\n",
        "    plt.xticks(range(data_corr.shape[1]), data_corr.columns, fontsize=font, rotation=90)\n",
        "    plt.yticks(range(data_corr.shape[1]), data_corr.columns, fontsize=font)\n",
        "    cb = plt.clim(-1,1) \n",
        "    cb = plt.colorbar()\n",
        "    cb.ax.tick_params(labelsize=14)\n",
        "    #plt.title('Correlation Matrix L12', fontsize=16);\n",
        "\n",
        "    f.savefig(save_path + output_name + 'Correlation.plot.Daily.jpg')\n",
        "  if all_factors:\n",
        "    # correlation between all factors.\n",
        "    data_corr_table =  data_corr.stack().reset_index()\n",
        "    data_corr_table.columns = ['Factor1','Factor2',\"Correlation\"]\n",
        "    data_corr_table.drop(data_corr_table[data_corr_table['Factor1']==data_corr_table['Factor2']].index,inplace=True)\n",
        "    data_corr_table.head()\n",
        "\n",
        "    data_corr_table = data_corr_table.iloc[(-np.abs(data_corr_table['Correlation'].values)).argsort()]\n",
        "    data_corr_table = data_corr_table.drop_duplicates('Correlation')\n",
        "    data_corr_table.to_csv(save_path + output_name + 'Full.correlation.Table.csv')\n",
        "  if mA:\n",
        "  #Defined correlation\n",
        "    data_corr_ma = data_corr.loc[[corr_variable],:]\n",
        "    data_corr_ma = data_corr_ma.transpose()\n",
        "    #data_corr_ma\n",
        "    data_mA_table = data_corr_ma.iloc[(-np.abs(data_corr_ma[corr_variable].values)).argsort()]\n",
        "    data_mA_table.rename(columns={corr_variable:'Correlation to '+ corr_variable}, inplace=True)\n",
        "    #data_mA_table.head()\n",
        "\n",
        "    data_mA_table.to_csv(save_path + output_name + 'correlation.to.'+corr_variable+'.csv')"
      ]
    }
  ]
}