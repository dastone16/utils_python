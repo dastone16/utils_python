{
  "nbformat": 4,
  "nbformat_minor": 0,
  "metadata": {
    "colab": {
      "name": "date_compare.ipynb",
      "provenance": [],
      "authorship_tag": "ABX9TyOCtsI0sgVrj4WOASl57d6P",
      "include_colab_link": true
    },
    "kernelspec": {
      "name": "python3",
      "display_name": "Python 3"
    },
    "language_info": {
      "name": "python"
    }
  },
  "cells": [
    {
      "cell_type": "markdown",
      "metadata": {
        "id": "view-in-github",
        "colab_type": "text"
      },
      "source": [
        "<a href=\"https://colab.research.google.com/github/dastone16/utils_python/blob/main/date_compare.ipynb\" target=\"_parent\"><img src=\"https://colab.research.google.com/assets/colab-badge.svg\" alt=\"Open In Colab\"/></a>"
      ]
    },
    {
      "cell_type": "code",
      "execution_count": null,
      "metadata": {
        "id": "TYGY65XzU4au"
      },
      "outputs": [],
      "source": [
        "def date_compare(data,date_label,start_date,trans_date,fin_date,\n",
        "                 output_name,resample='H',label1=\"Before\",label2=\"After\",corr=\"Metal Exposure (mA)\",\n",
        "                 raw=False):\n",
        "  \"\"\"\n",
        "  Data must be dataframe indexed to date.\n",
        "  resample is time of resampling typically daily 'D', rarely hourly 'H'\n",
        "  data parsed from start to finish with transition date in middle\n",
        "  corr: correlation to.  If none correlate to all.\n",
        "  raw=False will not prettify output columns.\n",
        "  \"\"\"\n",
        "  Summary=pd.DataFrame()\n",
        "  \n",
        "  #reindex by date\n",
        "  data2 = data.resample(resample).mean() #resample by second to get full statistics \n",
        "  \n",
        "  #section by date\n",
        "  before = data2[start_date:trans_date].copy()\n",
        "  after = data2[trans_date:fin_date].copy()\n",
        "  \n",
        "  correlation_plot(before,'D',output_name+label1,plot=False,all_factors=False)\n",
        "  correlation_plot(after,'D',output_name+label2,plot=False,all_factors=False)\n",
        "  before_T = before.transpose()\n",
        "  #+ \" \" + str(trans_date)+\n",
        "  Summary[label1 + 'Mean'] = np.round(before_T.mean(axis=1),4)\n",
        "  Summary[label1 + ' Std1'] = before_T.std(axis=1)\n",
        "  Summary[label1 + ' Count1'] = before_T.count(axis=1)\n",
        "  Summary[label1 + 'StdError'] = sp.sem(before_T,nan_policy='omit', axis=1)\n",
        "  after_T = after.transpose()\n",
        "  \n",
        "  Summary[label2 +' Mean'] = np.round(after_T.mean(axis=1),4)\n",
        "  Summary[label2 + ' Std2'] = after_T.std(axis=1)\n",
        "  Summary[label2 + ' Count2'] = after_T.count(axis=1)\n",
        "  Summary[label2 + 'StdError'] = sp.sem(after_T,nan_policy='omit', axis=1)\n",
        "\n",
        "  Summary['Difference']=np.round((Summary[label1 + ' Mean'] - Summary[label2 +' Mean']),4)\n",
        "  Summary['Std Error Diff'] = np.sqrt((Summary[label1 +'StdError']**2) + (Summary[label2 +'StdError']**2))\n",
        "  Summary['df']=Summary[label1 + ' Count1']+Summary[label2 + ' Count2']-2\n",
        "  Summary['T-Stat'] = Summary['Difference']/Summary['Std Error Diff']\n",
        "  Summary['P-value'] = np.round((1.0 - sp.t.cdf(abs(Summary['T-Stat']),Summary['df']))*2.0,3)\n",
        "  #Summary[label1 + ' Correlation to mA']=before_D_corr.loc[['Metal Exposure (mA)'],:]\n",
        "  #Summary[label2 + ' Correlation to mA']=after_D_corr.loc[['Metal Exposure (mA)'],:]\n",
        "  Summary = Summary.iloc[(-np.abs(Summary['T-Stat'].values)).argsort()]\n",
        "  if raw == False:\n",
        "    Summary.drop(columns=[label1 + ' Std1',label1 + ' Count1',label1 + 'StdError',\n",
        "                          label2 + ' Std2',label2 + ' Count2',label2 + 'StdError',\n",
        "                          'Std Error Diff','df'], inplace=True)\n",
        "    Summary.to_csv(save_path + output_name+label1+label2+'.diff.csv')\n",
        "  else:\n",
        "    Summary.to_csv(save_path + output_name+label1+label2+'.diff.csv')\n",
        "    pass\n",
        "  return Summary\n"
      ]
    }
  ]
}