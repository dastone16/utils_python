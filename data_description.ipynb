{
  "nbformat": 4,
  "nbformat_minor": 0,
  "metadata": {
    "colab": {
      "name": "data_description.ipynb",
      "provenance": [],
      "authorship_tag": "ABX9TyOaQcZiyItXCG6QY2dY3GkU",
      "include_colab_link": true
    },
    "kernelspec": {
      "name": "python3",
      "display_name": "Python 3"
    },
    "language_info": {
      "name": "python"
    }
  },
  "cells": [
    {
      "cell_type": "markdown",
      "metadata": {
        "id": "view-in-github",
        "colab_type": "text"
      },
      "source": [
        "<a href=\"https://colab.research.google.com/github/dastone16/utils_python/blob/main/data_description.ipynb\" target=\"_parent\"><img src=\"https://colab.research.google.com/assets/colab-badge.svg\" alt=\"Open In Colab\"/></a>"
      ]
    },
    {
      "cell_type": "code",
      "execution_count": null,
      "metadata": {
        "id": "DvMfKVr_UFr1"
      },
      "outputs": [],
      "source": [
        "def data_description(data,label):\n",
        "  description = data.describe().transpose()\n",
        "  #print(description)\n",
        "  description.to_csv(save_path + label + '.csv')"
      ]
    }
  ]
}