{
  "nbformat": 4,
  "nbformat_minor": 0,
  "metadata": {
    "colab": {
      "name": "scatter_plot.ipynb",
      "provenance": [],
      "authorship_tag": "ABX9TyOxwUC72lLBjD4CsHfgMykP",
      "include_colab_link": true
    },
    "kernelspec": {
      "name": "python3",
      "display_name": "Python 3"
    },
    "language_info": {
      "name": "python"
    }
  },
  "cells": [
    {
      "cell_type": "markdown",
      "metadata": {
        "id": "view-in-github",
        "colab_type": "text"
      },
      "source": [
        "<a href=\"https://colab.research.google.com/github/dastone16/python_package/blob/main/scatter_plot.ipynb\" target=\"_parent\"><img src=\"https://colab.research.google.com/assets/colab-badge.svg\" alt=\"Open In Colab\"/></a>"
      ]
    },
    {
      "cell_type": "code",
      "execution_count": null,
      "metadata": {
        "id": "ndFOEznMRgJo"
      },
      "outputs": [],
      "source": [
        "#creates scatter plot \n",
        "def scatter_plot(data,plotx, ploty,Line):\n",
        "  #plotx = 'Stage 2 Free Acid'\n",
        "  #ploty = 'Spray-31 S Dist M' \n",
        "  plt.figure()\n",
        "  #ax = fig.gca(autoscalex_on=True)\n",
        "  plt.scatter(data[plotx],data[ploty])\n",
        "  #plt.yscale('log')\n",
        "  plt.ylabel(ploty)\n",
        "  plt.xlabel(plotx)\n",
        "  z = np.polyfit(data[plotx], data[ploty], 1)\n",
        "  p = np.poly1d(z)\n",
        "  #plt.plot(data[plotx],p(data[plotx]),\"r--\",)\n",
        "  #plt.savefig(save_path + Line + ploty + ' vs.' + plotx + '.scatter.jpg')\n",
        "  X = data[plotx]\n",
        "  Y = data[ploty]\n",
        "\n",
        "  X = sm.add_constant(X) # adding a constant\n",
        "\n",
        "  model = sm.OLS(Y, X, missing='drop').fit()\n",
        "  #predictions = model.predict(X) \n",
        "\n",
        "  print_model = model.summary()\n",
        "  return print(print_model)"
      ]
    }
  ]
}