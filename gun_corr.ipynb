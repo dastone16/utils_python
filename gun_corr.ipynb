{
  "nbformat": 4,
  "nbformat_minor": 0,
  "metadata": {
    "colab": {
      "name": "gun_corr.ipynb",
      "provenance": [],
      "authorship_tag": "ABX9TyNHhnmYEW6H08Yz8yg12Kgx",
      "include_colab_link": true
    },
    "kernelspec": {
      "name": "python3",
      "display_name": "Python 3"
    },
    "language_info": {
      "name": "python"
    }
  },
  "cells": [
    {
      "cell_type": "markdown",
      "metadata": {
        "id": "view-in-github",
        "colab_type": "text"
      },
      "source": [
        "<a href=\"https://colab.research.google.com/github/dastone16/python_package/blob/main/gun_corr.ipynb\" target=\"_parent\"><img src=\"https://colab.research.google.com/assets/colab-badge.svg\" alt=\"Open In Colab\"/></a>"
      ]
    },
    {
      "cell_type": "code",
      "execution_count": null,
      "metadata": {
        "id": "3cQssBkJQ9Ur"
      },
      "outputs": [],
      "source": [
        "def gun_corr(data,spraygun):\n",
        "  Spray_NN = pd.pivot_table(data[data['Machine']==spraygun],columns='Variable',values='Value by Gun',index=date_label)\n",
        "  Spray_NN.dropna()\n",
        "  Spray_NN_Day = Spray_NN.resample('D').mean()\n",
        "  Spray_NN_table = Spray_NN_Day.corr()\n",
        "  Spray_NN_table.to_csv(save_path + spraygun + 'gun.correlation.csv')\n",
        "  x_len,y_len=Spray_NN_table.shape\n",
        "\n",
        "  f = plt.figure(figsize=(10, 10))\n",
        "  plt.matshow(Spray_NN_table, fignum=f.number)\n",
        "  plt.xticks(range(Spray_NN_table.shape[1]), Spray_NN_table.columns, fontsize=12, rotation=90)\n",
        "  plt.yticks(range(Spray_NN_table.shape[1]), Spray_NN_table.columns, fontsize=12)\n",
        "  cb = plt.clim(-1,1) #forced limits to -1,1.\n",
        "  cb = plt.colorbar()\n",
        "  for i in range(x_len):\n",
        "    for j in range(y_len):\n",
        "        text = plt.text(j, i, round(Spray_NN_table.iloc[i, j],2), ha='center', va='center', color='r')\n",
        "  \n",
        "  cb.ax.tick_params(labelsize=16)\n",
        "  plt.title(spraygun, fontsize=18,horizontalalignment = 'center',y=1.20);\n",
        "\n",
        "  f.savefig(save_path + spraygun + 'Correlation.plot.Daily.jpg')\n"
      ]
    }
  ]
}