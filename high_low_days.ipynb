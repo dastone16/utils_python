{
  "nbformat": 4,
  "nbformat_minor": 0,
  "metadata": {
    "colab": {
      "name": "high_low_days.ipynb",
      "provenance": [],
      "authorship_tag": "ABX9TyPtFadp2eyDnq4atzQgoD8n",
      "include_colab_link": true
    },
    "kernelspec": {
      "name": "python3",
      "display_name": "Python 3"
    },
    "language_info": {
      "name": "python"
    }
  },
  "cells": [
    {
      "cell_type": "markdown",
      "metadata": {
        "id": "view-in-github",
        "colab_type": "text"
      },
      "source": [
        "<a href=\"https://colab.research.google.com/github/dastone16/utils_python/blob/main/high_low_days.ipynb\" target=\"_parent\"><img src=\"https://colab.research.google.com/assets/colab-badge.svg\" alt=\"Open In Colab\"/></a>"
      ]
    },
    {
      "cell_type": "code",
      "execution_count": null,
      "metadata": {
        "id": "nYwRB117VHiB"
      },
      "outputs": [],
      "source": [
        "def high_low_days(data,resample,Output_name,variable,days=10):\n",
        "  #input already averaged data by day.  \n",
        "\n",
        "  #originally used for only mA, switched to any variable, but temporary variables inside function still refer to mA.\n",
        "  data_Day = data.resample(resample).mean()\n",
        "  data_Day = data_Day.dropna(how='all')\n",
        "  data_Day = data_Day.dropna(how='all',axis='columns')\n",
        "  data_Day = data_Day.iloc[(-np.abs(data_Day[variable].values)).argsort()]\n",
        "  data_High20_mA_Days = data_Day.iloc[0:days,:]\n",
        "  data_Low20_mA_Days = data_Day.iloc[-days:-1,:]\n",
        "  #labeled mA because originally only written for mA.  Added ability to input vs any variable.\n",
        "\n",
        "  data_High_mean = data_High20_mA_Days.resample('10AS').mean() #resample by year to average\n",
        "  data_High_mean = data_High_mean.reset_index(drop=True).transpose()\n",
        "  data_Low_mean = data_Low20_mA_Days.resample('10AS').mean()\n",
        "  data_Low_mean = data_Low_mean.reset_index(drop=True).transpose()\n",
        "  data_Range_max = data_Day.resample('10AS').max()  # by year to get entire range\n",
        "  data_Range_max = data_Range_max.reset_index(drop=True).transpose()\n",
        "  data_Range_min = data_Day.resample('10AS').min()\n",
        "  data_Range_min = data_Range_min.reset_index(drop=True).transpose()\n",
        "  data_High_mean.rename(columns={0:'Avg: '+str(days)+' Highest Days'}, inplace=True)\n",
        "  data_Low_mean.rename(columns={0:'Avg: '+str(days)+' Lowest Days'}, inplace=True)\n",
        "  data_Range_max.rename(columns={0:'Max'}, inplace=True)\n",
        "  data_Range_min.rename(columns={0:'Min'}, inplace=True)\n",
        "\n",
        "  data_Summary = data_Low_mean\n",
        "  data_Summary['Avg: '+str(days)+' Highest Days'] = data_High_mean['Avg: '+str(days)+' Highest Days']\n",
        "  data_Summary['Difference'] = data_High_mean['Avg: '+str(days)+' Highest Days']-data_Low_mean['Avg: '+str(days)+' Lowest Days']\n",
        "  data_Summary['Max'] = data_Range_max['Max']\n",
        "  data_Summary['Min'] = data_Range_min['Min']\n",
        "  data_Summary['Range'] = data_Summary['Max'] - data_Summary['Min']\n",
        "  data_Summary['% of Range'] = data_Summary['Difference']/data_Summary['Range']*100\n",
        "  data_Summary = data_Summary.iloc[(-np.abs(data_Summary['% of Range'].values)).argsort()]\n",
        "  data_Summary.to_csv(save_path + Output_name + variable + str(days)+'days.High.Low.diff.csv')\n",
        "  return data_Summary"
      ]
    }
  ]
}