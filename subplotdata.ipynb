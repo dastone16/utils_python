{
  "nbformat": 4,
  "nbformat_minor": 0,
  "metadata": {
    "colab": {
      "name": "subplotdata.ipynb",
      "provenance": [],
      "authorship_tag": "ABX9TyOo4uJe80MgNzbQSg1cM5r/",
      "include_colab_link": true
    },
    "kernelspec": {
      "name": "python3",
      "display_name": "Python 3"
    },
    "language_info": {
      "name": "python"
    }
  },
  "cells": [
    {
      "cell_type": "markdown",
      "metadata": {
        "id": "view-in-github",
        "colab_type": "text"
      },
      "source": [
        "<a href=\"https://colab.research.google.com/github/dastone16/utils_python/blob/main/subplotdata.ipynb\" target=\"_parent\"><img src=\"https://colab.research.google.com/assets/colab-badge.svg\" alt=\"Open In Colab\"/></a>"
      ]
    },
    {
      "cell_type": "code",
      "execution_count": null,
      "metadata": {
        "id": "-PXH5ngjV8Cy"
      },
      "outputs": [],
      "source": [
        "def subplotdata (data,yaxis,yaxislabels,limit,title,save_label,after_date=None):\n",
        "  \"\"\"\n",
        "  #data is a list of data frames to plot\n",
        "  #yaxis is a list of columns used for plotting\n",
        "  #yaxislabels is a list of the y-axis in the plot\n",
        "  #limit is boolean for limits adjusted for plots\n",
        "  #title is title of all plot\n",
        "  #save label is name of file to be saved.\n",
        "  #after date\n",
        "  \"\"\"\n",
        "  x_len=len(yaxis)\n",
        "  y_len=len(data[0].groupby(level=0))\n",
        "  colors = ['orange','blue','green','red','purple','gray','brown','pink']\n",
        "  fig, axs = plt.subplots(x_len,y_len,sharey='row',sharex='col',figsize=(12,12))\n",
        "\n",
        "  for j in range(x_len):\n",
        "    axs[j,0].set_ylabel(yaxislabels[j])\n",
        "    if limit[j]:\n",
        "      axs[j,0].set_ylim(data[j][yaxis[j]].min()-(0.2*data[j][yaxis[j]].min()),data[j][yaxis[j]].max()+(0.1*data[j][yaxis[j]].max()))\n",
        "    for i in range(y_len):\n",
        "      data[j].loc[[lines[i]],[yaxis[j]]].plot(kind='bar', ax=axs[j,i],legend=None,color=colors[i])\n",
        "  axs[0,y_len//2].set_title(title)\n",
        "  fig.savefig(save_path + save_label)"
      ]
    }
  ]
}