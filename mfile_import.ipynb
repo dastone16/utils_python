{
  "nbformat": 4,
  "nbformat_minor": 0,
  "metadata": {
    "colab": {
      "name": "mfile_import.ipynb",
      "provenance": [],
      "authorship_tag": "ABX9TyOod0y+a2uIZ92upagGTLYw",
      "include_colab_link": true
    },
    "kernelspec": {
      "name": "python3",
      "display_name": "Python 3"
    },
    "language_info": {
      "name": "python"
    }
  },
  "cells": [
    {
      "cell_type": "markdown",
      "metadata": {
        "id": "view-in-github",
        "colab_type": "text"
      },
      "source": [
        "<a href=\"https://colab.research.google.com/github/dastone16/python_package/blob/main/mfile_import.ipynb\" target=\"_parent\"><img src=\"https://colab.research.google.com/assets/colab-badge.svg\" alt=\"Open In Colab\"/></a>"
      ]
    },
    {
      "cell_type": "code",
      "execution_count": null,
      "metadata": {
        "id": "3gRaHeNGQxDm"
      },
      "outputs": [],
      "source": [
        "def mfile_import(path,columns,date_name,dateformat=\"%d/%m/%Y %H:%M:%S\"):\n",
        "  #Date formating help: https://docs.python.org/3/library/datetime.html#strftime-and-strptime-format-codes\n",
        "  filepaths = [f for f in listdir(path) if f.endswith('.csv')]\n",
        "  output_data = pd.DataFrame()\n",
        "  for file in filepaths:\n",
        "    temp_data= pd.read_csv(path + file,header=0,usecols=columns,parse_dates=[date_name]) \n",
        "    temp_data[date_name]= pd.to_datetime(temp_data[date_name].dt.strftime(dateformat)) #needed to shift unique format\n",
        "    output_data = pd.concat([output_data,temp_data])\n",
        "   \n",
        "  return output_data\n"
      ]
    }
  ]
}